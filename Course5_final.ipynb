{
 "cells": [
  {
   "cell_type": "markdown",
   "id": "325cc920-4577-4dfd-a21b-631f0c229a26",
   "metadata": {
    "jp-MarkdownHeadingCollapsed": true
   },
   "source": [
    "### Course 5 - Final Assignment"
   ]
  },
  {
   "cell_type": "markdown",
   "id": "3d8595cd-e29f-407c-97c7-6bf52c1f1bf6",
   "metadata": {},
   "source": [
    "# Note:\n",
    "### I recreated the assignment in a blank notebook. \n",
    "### It was easier for me to work with more conscise code blocks and to hand program all elements to gain a bettter undertanding. \n",
    "### Hopefully this is acceptable for submission. \n"
   ]
  },
  {
   "cell_type": "code",
   "execution_count": 3,
   "id": "a12a3463-f1ce-4c92-a28d-3100db4273ea",
   "metadata": {},
   "outputs": [],
   "source": [
    "# Dependancies\n",
    "#!pip install yfinance\n",
    "#!pip install bs4\n",
    "#!pip install nbformat\n",
    "#!pip install --upgrade plotly"
   ]
  },
  {
   "cell_type": "code",
   "execution_count": 45,
   "id": "c5aaa4bd-4cd2-4c3d-84c7-6a76e6078e76",
   "metadata": {},
   "outputs": [],
   "source": [
    "# Imports\n",
    "import yfinance as yf\n",
    "import pandas as pd\n",
    "import requests\n",
    "from bs4 import BeautifulSoup\n",
    "import plotly.graph_objects as go\n",
    "from plotly.subplots import make_subplots\n",
    "import plotly.io as pio\n",
    "pio.renderers.default = \"iframe\"\n"
   ]
  },
  {
   "cell_type": "code",
   "execution_count": 44,
   "id": "46061837-0158-43e7-9eae-1b1ab560bc84",
   "metadata": {},
   "outputs": [],
   "source": [
    "import warnings\n",
    "# Ignore all warnings\n",
    "warnings.filterwarnings(\"ignore\", category=FutureWarning)"
   ]
  },
  {
   "cell_type": "code",
   "execution_count": 59,
   "id": "d99ae65b-5e99-4c47-a1ca-cd0417a07a94",
   "metadata": {},
   "outputs": [],
   "source": [
    "# Plotly Graph Function\n",
    "def make_graph(stock_data, revenue_data, stock):\n",
    "    import pandas as pd\n",
    "    import plotly.graph_objects as go\n",
    "    from plotly.subplots import make_subplots\n",
    "\n",
    "    fig = make_subplots(\n",
    "        rows=2, cols=1,\n",
    "        #shared_xaxes=False,\n",
    "        subplot_titles=(\"Historical Share Price\", \"Historical Revenue\"),\n",
    "        vertical_spacing=0.15\n",
    "    )\n",
    "\n",
    "    # Plot Share Price\n",
    "    fig.add_trace(\n",
    "        go.Scatter(\n",
    "            x=stock_data['Date'],\n",
    "            y=stock_data['Close'],\n",
    "            mode='lines',\n",
    "            name=\"Share Price\"\n",
    "        ),\n",
    "        row=1, col=1\n",
    "    )\n",
    "\n",
    "    # Plot Revenue\n",
    "    fig.add_trace(\n",
    "        go.Scatter(\n",
    "            x=revenue_data['Date'],\n",
    "            y=revenue_data['Revenue'],\n",
    "            mode='lines+markers',\n",
    "            name=\"Revenue\"\n",
    "        ),\n",
    "        row=2, col=1\n",
    "    )\n",
    "\n",
    "    # Formatting\n",
    "    fig.update_layout(\n",
    "        title=stock,\n",
    "        height=800,\n",
    "        showlegend=False,\n",
    "        xaxis=dict(rangeslider=dict(visible=False)),\n",
    "        xaxis2=dict(rangeslider=dict(visible=False)) # Explicitly hide rangeslider for xaxis2 (row=2, col=1)\n",
    "    )\n",
    "\n",
    "    fig.update_xaxes(title_text=\"Date\", row=1, col=1)\n",
    "    fig.update_yaxes(title_text=\"Price ($)\", row=1, col=1)\n",
    "    fig.update_xaxes(title_text=\"Date\", row=2, col=1)\n",
    "    fig.update_yaxes(title_text=\"Revenue ($ Millions)\", row=2, col=1)\n",
    "\n",
    "    fig.show()\n",
    "\n",
    "\n",
    "    "
   ]
  },
  {
   "cell_type": "markdown",
   "id": "8bcceb8c-8efb-4824-a6b5-ab46f3adc0ee",
   "metadata": {},
   "source": [
    "### TSLA Historical Stock Info"
   ]
  },
  {
   "cell_type": "code",
   "execution_count": 7,
   "id": "38917456-7916-4c92-90f3-28309c864db2",
   "metadata": {},
   "outputs": [
    {
     "data": {
      "text/html": [
       "<div>\n",
       "<style scoped>\n",
       "    .dataframe tbody tr th:only-of-type {\n",
       "        vertical-align: middle;\n",
       "    }\n",
       "\n",
       "    .dataframe tbody tr th {\n",
       "        vertical-align: top;\n",
       "    }\n",
       "\n",
       "    .dataframe thead th {\n",
       "        text-align: right;\n",
       "    }\n",
       "</style>\n",
       "<table border=\"1\" class=\"dataframe\">\n",
       "  <thead>\n",
       "    <tr style=\"text-align: right;\">\n",
       "      <th></th>\n",
       "      <th>Date</th>\n",
       "      <th>Open</th>\n",
       "      <th>High</th>\n",
       "      <th>Low</th>\n",
       "      <th>Close</th>\n",
       "      <th>Volume</th>\n",
       "      <th>Dividends</th>\n",
       "      <th>Stock Splits</th>\n",
       "    </tr>\n",
       "  </thead>\n",
       "  <tbody>\n",
       "    <tr>\n",
       "      <th>0</th>\n",
       "      <td>2010-06-29 00:00:00-04:00</td>\n",
       "      <td>1.266667</td>\n",
       "      <td>1.666667</td>\n",
       "      <td>1.169333</td>\n",
       "      <td>1.592667</td>\n",
       "      <td>281494500</td>\n",
       "      <td>0.0</td>\n",
       "      <td>0.0</td>\n",
       "    </tr>\n",
       "    <tr>\n",
       "      <th>1</th>\n",
       "      <td>2010-06-30 00:00:00-04:00</td>\n",
       "      <td>1.719333</td>\n",
       "      <td>2.028000</td>\n",
       "      <td>1.553333</td>\n",
       "      <td>1.588667</td>\n",
       "      <td>257806500</td>\n",
       "      <td>0.0</td>\n",
       "      <td>0.0</td>\n",
       "    </tr>\n",
       "    <tr>\n",
       "      <th>2</th>\n",
       "      <td>2010-07-01 00:00:00-04:00</td>\n",
       "      <td>1.666667</td>\n",
       "      <td>1.728000</td>\n",
       "      <td>1.351333</td>\n",
       "      <td>1.464000</td>\n",
       "      <td>123282000</td>\n",
       "      <td>0.0</td>\n",
       "      <td>0.0</td>\n",
       "    </tr>\n",
       "    <tr>\n",
       "      <th>3</th>\n",
       "      <td>2010-07-02 00:00:00-04:00</td>\n",
       "      <td>1.533333</td>\n",
       "      <td>1.540000</td>\n",
       "      <td>1.247333</td>\n",
       "      <td>1.280000</td>\n",
       "      <td>77097000</td>\n",
       "      <td>0.0</td>\n",
       "      <td>0.0</td>\n",
       "    </tr>\n",
       "    <tr>\n",
       "      <th>4</th>\n",
       "      <td>2010-07-06 00:00:00-04:00</td>\n",
       "      <td>1.333333</td>\n",
       "      <td>1.333333</td>\n",
       "      <td>1.055333</td>\n",
       "      <td>1.074000</td>\n",
       "      <td>103003500</td>\n",
       "      <td>0.0</td>\n",
       "      <td>0.0</td>\n",
       "    </tr>\n",
       "  </tbody>\n",
       "</table>\n",
       "</div>"
      ],
      "text/plain": [
       "                       Date      Open      High       Low     Close  \\\n",
       "0 2010-06-29 00:00:00-04:00  1.266667  1.666667  1.169333  1.592667   \n",
       "1 2010-06-30 00:00:00-04:00  1.719333  2.028000  1.553333  1.588667   \n",
       "2 2010-07-01 00:00:00-04:00  1.666667  1.728000  1.351333  1.464000   \n",
       "3 2010-07-02 00:00:00-04:00  1.533333  1.540000  1.247333  1.280000   \n",
       "4 2010-07-06 00:00:00-04:00  1.333333  1.333333  1.055333  1.074000   \n",
       "\n",
       "      Volume  Dividends  Stock Splits  \n",
       "0  281494500        0.0           0.0  \n",
       "1  257806500        0.0           0.0  \n",
       "2  123282000        0.0           0.0  \n",
       "3   77097000        0.0           0.0  \n",
       "4  103003500        0.0           0.0  "
      ]
     },
     "execution_count": 7,
     "metadata": {},
     "output_type": "execute_result"
    }
   ],
   "source": [
    "# Retrieve TSLA stock info via yf.Ticker then use .history to get historical stock prices\n",
    "tsla = yf.Ticker(\"TSLA\")\n",
    "tesla_data = tsla.history(period=\"max\") # Date Open High Low Clsoe Volume Dividends Splits\n",
    "\n",
    "# Reset the index and display the first 5 using tesla_data.head() method\n",
    "tesla_data.reset_index(inplace=True)\n",
    "tesla_data.head()"
   ]
  },
  {
   "cell_type": "markdown",
   "id": "01277d02-b936-4c3c-8c57-143f63a65c9a",
   "metadata": {},
   "source": [
    "### TSLA Historical Revenue"
   ]
  },
  {
   "cell_type": "code",
   "execution_count": 32,
   "id": "ae1c3779-dd5c-49af-ba9f-4eb5696796fa",
   "metadata": {},
   "outputs": [
    {
     "name": "stdout",
     "output_type": "stream",
     "text": [
      "         Date  Revenue\n",
      "49 2010-06-30     2866\n",
      "50 2010-03-31     1611\n",
      "51 2009-12-31     1338\n",
      "52 2009-09-30     1279\n",
      "53 2009-06-30     2304\n"
     ]
    }
   ],
   "source": [
    "# Webscrape TSLA Revenue Data\n",
    "url = \"https://cf-courses-data.s3.us.cloud-object-storage.appdomain.cloud/IBMDeveloperSkillsNetwork-PY0220EN-SkillsNetwork/labs/project/revenue.htm\"\n",
    "data  = requests.get(url).text\n",
    "tesla_revenue = BeautifulSoup(data, 'html.parser') # Make it Beautiful!\n",
    "\n",
    "# Convert to Pandas DataFrame\n",
    "tesla_revenue = pd.read_html(str(tesla_revenue))[1]  # Try index 1, or 0, 2, etc.\n",
    "tesla_revenue.columns = [\"Date\", \"Revenue\"]\n",
    "\n",
    "# Clean up the data and have a look.  REMEMBER: tesla_revenue is a DataFrame\n",
    "tesla_revenue['Revenue'] = tesla_revenue['Revenue'].astype(str).str.replace('$', '', regex=False)\n",
    "tesla_revenue['Revenue'] = tesla_revenue['Revenue'].str.replace(',', '', regex=False)\n",
    "#print(tesla_revenue)\n",
    "\n",
    "#ensure datetime \n",
    "tesla_revenue['Date'] = pd.to_datetime(tesla_revenue['Date'], errors='coerce')\n",
    "\n",
    "# ensure numeric\n",
    "tesla_revenue['Revenue'] = pd.to_numeric(gme_revenue['Revenue'], errors='coerce')\n",
    "\n",
    "\n",
    "\n",
    "# remove nulls or empty strings from the Revenue column.\n",
    "tesla_revenue.dropna(inplace=True)\n",
    "tesla_revenue = tesla_revenue[tesla_revenue['Revenue'] != \"\"]\n",
    "\n",
    "# Take a look at the last 5\n",
    "print(tesla_revenue.tail())\n",
    "\n"
   ]
  },
  {
   "cell_type": "markdown",
   "id": "bce31ea0-f61f-4786-95fb-f072dc6fa901",
   "metadata": {},
   "source": [
    "### GME Historical Stock Info"
   ]
  },
  {
   "cell_type": "code",
   "execution_count": 33,
   "id": "0488d546-1e0f-47a2-a084-a71247fbc819",
   "metadata": {},
   "outputs": [
    {
     "data": {
      "text/html": [
       "<div>\n",
       "<style scoped>\n",
       "    .dataframe tbody tr th:only-of-type {\n",
       "        vertical-align: middle;\n",
       "    }\n",
       "\n",
       "    .dataframe tbody tr th {\n",
       "        vertical-align: top;\n",
       "    }\n",
       "\n",
       "    .dataframe thead th {\n",
       "        text-align: right;\n",
       "    }\n",
       "</style>\n",
       "<table border=\"1\" class=\"dataframe\">\n",
       "  <thead>\n",
       "    <tr style=\"text-align: right;\">\n",
       "      <th></th>\n",
       "      <th>Date</th>\n",
       "      <th>Open</th>\n",
       "      <th>High</th>\n",
       "      <th>Low</th>\n",
       "      <th>Close</th>\n",
       "      <th>Volume</th>\n",
       "      <th>Dividends</th>\n",
       "      <th>Stock Splits</th>\n",
       "    </tr>\n",
       "  </thead>\n",
       "  <tbody>\n",
       "    <tr>\n",
       "      <th>0</th>\n",
       "      <td>2002-02-13 00:00:00-05:00</td>\n",
       "      <td>1.620129</td>\n",
       "      <td>1.693350</td>\n",
       "      <td>1.603296</td>\n",
       "      <td>1.691667</td>\n",
       "      <td>76216000</td>\n",
       "      <td>0.0</td>\n",
       "      <td>0.0</td>\n",
       "    </tr>\n",
       "    <tr>\n",
       "      <th>1</th>\n",
       "      <td>2002-02-14 00:00:00-05:00</td>\n",
       "      <td>1.712707</td>\n",
       "      <td>1.716074</td>\n",
       "      <td>1.670626</td>\n",
       "      <td>1.683250</td>\n",
       "      <td>11021600</td>\n",
       "      <td>0.0</td>\n",
       "      <td>0.0</td>\n",
       "    </tr>\n",
       "    <tr>\n",
       "      <th>2</th>\n",
       "      <td>2002-02-15 00:00:00-05:00</td>\n",
       "      <td>1.683251</td>\n",
       "      <td>1.687459</td>\n",
       "      <td>1.658002</td>\n",
       "      <td>1.674834</td>\n",
       "      <td>8389600</td>\n",
       "      <td>0.0</td>\n",
       "      <td>0.0</td>\n",
       "    </tr>\n",
       "    <tr>\n",
       "      <th>3</th>\n",
       "      <td>2002-02-19 00:00:00-05:00</td>\n",
       "      <td>1.666418</td>\n",
       "      <td>1.666418</td>\n",
       "      <td>1.578047</td>\n",
       "      <td>1.607504</td>\n",
       "      <td>7410400</td>\n",
       "      <td>0.0</td>\n",
       "      <td>0.0</td>\n",
       "    </tr>\n",
       "    <tr>\n",
       "      <th>4</th>\n",
       "      <td>2002-02-20 00:00:00-05:00</td>\n",
       "      <td>1.615920</td>\n",
       "      <td>1.662210</td>\n",
       "      <td>1.603296</td>\n",
       "      <td>1.662210</td>\n",
       "      <td>6892800</td>\n",
       "      <td>0.0</td>\n",
       "      <td>0.0</td>\n",
       "    </tr>\n",
       "  </tbody>\n",
       "</table>\n",
       "</div>"
      ],
      "text/plain": [
       "                       Date      Open      High       Low     Close    Volume  \\\n",
       "0 2002-02-13 00:00:00-05:00  1.620129  1.693350  1.603296  1.691667  76216000   \n",
       "1 2002-02-14 00:00:00-05:00  1.712707  1.716074  1.670626  1.683250  11021600   \n",
       "2 2002-02-15 00:00:00-05:00  1.683251  1.687459  1.658002  1.674834   8389600   \n",
       "3 2002-02-19 00:00:00-05:00  1.666418  1.666418  1.578047  1.607504   7410400   \n",
       "4 2002-02-20 00:00:00-05:00  1.615920  1.662210  1.603296  1.662210   6892800   \n",
       "\n",
       "   Dividends  Stock Splits  \n",
       "0        0.0           0.0  \n",
       "1        0.0           0.0  \n",
       "2        0.0           0.0  \n",
       "3        0.0           0.0  \n",
       "4        0.0           0.0  "
      ]
     },
     "execution_count": 33,
     "metadata": {},
     "output_type": "execute_result"
    }
   ],
   "source": [
    "#gme = yf.Ticker(\"GME\")\n",
    "#gme_data = gme.history(period=\"max\")\n",
    "# Reset the index and have a look!\n",
    "#gme_data.reset_index(inplace=True)\n",
    "#print(gme_data.head())\n",
    "\n",
    "# Retrieve TSLA stock info via yf.Ticker then use .history to get historical stock prices\n",
    "gme = yf.Ticker(\"GME\")\n",
    "gme_data = gme.history(period=\"max\") # Date Open High Low Clsoe Volume Dividends Splits\n",
    "\n",
    "# Reset the index and display the first 5 using tesla_data.head() method\n",
    "gme_data.reset_index(inplace=True)\n",
    "gme_data.head()"
   ]
  },
  {
   "cell_type": "markdown",
   "id": "62e3e3e0-5a39-4b74-8efc-d16f4a9a9875",
   "metadata": {},
   "source": [
    "### GME Historical Revenue"
   ]
  },
  {
   "cell_type": "code",
   "execution_count": 34,
   "id": "cb0d732b-9911-42e4-9ebc-5d6a067bc12a",
   "metadata": {},
   "outputs": [
    {
     "name": "stdout",
     "output_type": "stream",
     "text": [
      "         Date  Revenue\n",
      "49 2010-06-30     2866\n",
      "50 2010-03-31     1611\n",
      "51 2009-12-31     1338\n",
      "52 2009-09-30     1279\n",
      "53 2009-06-30     2304\n"
     ]
    }
   ],
   "source": [
    "url = \"https://cf-courses-data.s3.us.cloud-object-storage.appdomain.cloud/IBMDeveloperSkillsNetwork-PY0220EN-SkillsNetwork/labs/project/stock.html\"\n",
    "\n",
    "# Webscrape GME Revenue Data\n",
    "data  = requests.get(url).text\n",
    "gme_revenue = BeautifulSoup(data, 'html.parser') # Make it Beautiful!\n",
    "\n",
    "# Convert to Pandas DataFrame\n",
    "gme_revenue = pd.read_html(str(gme_revenue))[1]  # Try index 1, or 0, 2, etc.\n",
    "gme_revenue.columns = [\"Date\", \"Revenue\"]\n",
    "\n",
    "# Clean up the data and have a look.  REMEMBER: gme_revenue is a DataFrame\n",
    "gme_revenue['Revenue'] = gme_revenue['Revenue'].astype(str).str.replace('$', '', regex=False)\n",
    "gme_revenue['Revenue'] = gme_revenue['Revenue'].str.replace(',', '', regex=False)\n",
    "#print(tesla_revenue)\n",
    "\n",
    "# ensure datetime\n",
    "gme_revenue['Date'] = pd.to_datetime(tesla_revenue['Date'], errors='coerce')\n",
    "\n",
    "# ensure numeric\n",
    "gme_revenue['Revenue'] = pd.to_numeric(gme_revenue['Revenue'], errors='coerce')\n",
    "\n",
    "\n",
    "# remove nulls or empty strings from the Revenue column.\n",
    "gme_revenue.dropna(inplace=True)\n",
    "gme_revenue = gme_revenue[gme_revenue['Revenue'] != \"\"]\n",
    "\n",
    "# Take a look at the last 5\n",
    "print(gme_revenue.tail())\n",
    "\n",
    "\n"
   ]
  },
  {
   "cell_type": "markdown",
   "id": "c766675a-fb27-4082-b86a-c74ee45b5b2c",
   "metadata": {},
   "source": [
    "### TESLA CHARTS"
   ]
  },
  {
   "cell_type": "code",
   "execution_count": 63,
   "id": "39c661c9-8573-498b-811d-51d1b5ca30ac",
   "metadata": {},
   "outputs": [
    {
     "data": {
      "text/html": [
       "<iframe\n",
       "    scrolling=\"no\"\n",
       "    width=\"100%\"\n",
       "    height=\"820\"\n",
       "    src=\"iframe_figures/figure_63.html\"\n",
       "    frameborder=\"0\"\n",
       "    allowfullscreen\n",
       "></iframe>\n"
      ]
     },
     "metadata": {},
     "output_type": "display_data"
    }
   ],
   "source": [
    "make_graph(tesla_data, tesla_revenue,'Tesla')"
   ]
  },
  {
   "cell_type": "markdown",
   "id": "7d1c08fa-ff73-4a66-a673-a0adee74c8f6",
   "metadata": {},
   "source": [
    "### GameStop Charts"
   ]
  },
  {
   "cell_type": "code",
   "execution_count": 64,
   "id": "4f0f9147-25bf-4b2d-bf4a-b9a2a13dcca3",
   "metadata": {},
   "outputs": [
    {
     "data": {
      "text/html": [
       "<iframe\n",
       "    scrolling=\"no\"\n",
       "    width=\"100%\"\n",
       "    height=\"820\"\n",
       "    src=\"iframe_figures/figure_64.html\"\n",
       "    frameborder=\"0\"\n",
       "    allowfullscreen\n",
       "></iframe>\n"
      ]
     },
     "metadata": {},
     "output_type": "display_data"
    }
   ],
   "source": [
    "make_graph(gme_data, gme_revenue,'GameStop')"
   ]
  },
  {
   "cell_type": "code",
   "execution_count": null,
   "id": "c22b4f0d-57da-4533-864c-1f5ffb940daa",
   "metadata": {},
   "outputs": [],
   "source": []
  }
 ],
 "metadata": {
  "kernelspec": {
   "display_name": "Python 3 (ipykernel)",
   "language": "python",
   "name": "python3"
  },
  "language_info": {
   "codemirror_mode": {
    "name": "ipython",
    "version": 3
   },
   "file_extension": ".py",
   "mimetype": "text/x-python",
   "name": "python",
   "nbconvert_exporter": "python",
   "pygments_lexer": "ipython3",
   "version": "3.11.11"
  }
 },
 "nbformat": 4,
 "nbformat_minor": 5
}
